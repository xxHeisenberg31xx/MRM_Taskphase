{
 "cells": [
  {
   "cell_type": "code",
   "execution_count": 1,
   "id": "3e21ba47",
   "metadata": {},
   "outputs": [],
   "source": [
    "import numpy as np\n",
    "import pandas as pd\n",
    "import math\n",
    "import statsmodels.api as sm\n",
    "from tqdm.contrib import itertools\n",
    "import seaborn as sns\n",
    "import matplotlib as mpl\n",
    "from matplotlib import pyplot as plt\n",
    "from sklearn.model_selection import train_test_split as tts\n",
    "from sklearn.metrics import accuracy_score\n",
    "from sklearn.metrics import recall_score\n",
    "from sklearn.metrics import f1_score\n",
    "from sklearn.utils import shuffle"
   ]
  },
  {
   "cell_type": "code",
   "execution_count": 2,
   "id": "5fd96483",
   "metadata": {},
   "outputs": [],
   "source": [
    "tds = pd.read_csv('titanic.csv')"
   ]
  },
  {
   "cell_type": "code",
   "execution_count": 3,
   "id": "4d5bbef8",
   "metadata": {},
   "outputs": [
    {
     "data": {
      "text/html": [
       "<div>\n",
       "<style scoped>\n",
       "    .dataframe tbody tr th:only-of-type {\n",
       "        vertical-align: middle;\n",
       "    }\n",
       "\n",
       "    .dataframe tbody tr th {\n",
       "        vertical-align: top;\n",
       "    }\n",
       "\n",
       "    .dataframe thead th {\n",
       "        text-align: right;\n",
       "    }\n",
       "</style>\n",
       "<table border=\"1\" class=\"dataframe\">\n",
       "  <thead>\n",
       "    <tr style=\"text-align: right;\">\n",
       "      <th></th>\n",
       "      <th>PassengerId</th>\n",
       "      <th>Survived</th>\n",
       "      <th>Pclass</th>\n",
       "      <th>Name</th>\n",
       "      <th>Sex</th>\n",
       "      <th>Age</th>\n",
       "      <th>SibSp</th>\n",
       "      <th>Parch</th>\n",
       "      <th>Ticket</th>\n",
       "      <th>Fare</th>\n",
       "      <th>Cabin</th>\n",
       "      <th>Embarked</th>\n",
       "    </tr>\n",
       "  </thead>\n",
       "  <tbody>\n",
       "    <tr>\n",
       "      <th>0</th>\n",
       "      <td>1</td>\n",
       "      <td>0</td>\n",
       "      <td>3</td>\n",
       "      <td>Braund, Mr. Owen Harris</td>\n",
       "      <td>male</td>\n",
       "      <td>22.0</td>\n",
       "      <td>1</td>\n",
       "      <td>0</td>\n",
       "      <td>A/5 21171</td>\n",
       "      <td>7.2500</td>\n",
       "      <td>NaN</td>\n",
       "      <td>S</td>\n",
       "    </tr>\n",
       "    <tr>\n",
       "      <th>1</th>\n",
       "      <td>2</td>\n",
       "      <td>1</td>\n",
       "      <td>1</td>\n",
       "      <td>Cumings, Mrs. John Bradley (Florence Briggs Th...</td>\n",
       "      <td>female</td>\n",
       "      <td>38.0</td>\n",
       "      <td>1</td>\n",
       "      <td>0</td>\n",
       "      <td>PC 17599</td>\n",
       "      <td>71.2833</td>\n",
       "      <td>C85</td>\n",
       "      <td>C</td>\n",
       "    </tr>\n",
       "    <tr>\n",
       "      <th>2</th>\n",
       "      <td>3</td>\n",
       "      <td>1</td>\n",
       "      <td>3</td>\n",
       "      <td>Heikkinen, Miss. Laina</td>\n",
       "      <td>female</td>\n",
       "      <td>26.0</td>\n",
       "      <td>0</td>\n",
       "      <td>0</td>\n",
       "      <td>STON/O2. 3101282</td>\n",
       "      <td>7.9250</td>\n",
       "      <td>NaN</td>\n",
       "      <td>S</td>\n",
       "    </tr>\n",
       "    <tr>\n",
       "      <th>3</th>\n",
       "      <td>4</td>\n",
       "      <td>1</td>\n",
       "      <td>1</td>\n",
       "      <td>Futrelle, Mrs. Jacques Heath (Lily May Peel)</td>\n",
       "      <td>female</td>\n",
       "      <td>35.0</td>\n",
       "      <td>1</td>\n",
       "      <td>0</td>\n",
       "      <td>113803</td>\n",
       "      <td>53.1000</td>\n",
       "      <td>C123</td>\n",
       "      <td>S</td>\n",
       "    </tr>\n",
       "    <tr>\n",
       "      <th>4</th>\n",
       "      <td>5</td>\n",
       "      <td>0</td>\n",
       "      <td>3</td>\n",
       "      <td>Allen, Mr. William Henry</td>\n",
       "      <td>male</td>\n",
       "      <td>35.0</td>\n",
       "      <td>0</td>\n",
       "      <td>0</td>\n",
       "      <td>373450</td>\n",
       "      <td>8.0500</td>\n",
       "      <td>NaN</td>\n",
       "      <td>S</td>\n",
       "    </tr>\n",
       "    <tr>\n",
       "      <th>...</th>\n",
       "      <td>...</td>\n",
       "      <td>...</td>\n",
       "      <td>...</td>\n",
       "      <td>...</td>\n",
       "      <td>...</td>\n",
       "      <td>...</td>\n",
       "      <td>...</td>\n",
       "      <td>...</td>\n",
       "      <td>...</td>\n",
       "      <td>...</td>\n",
       "      <td>...</td>\n",
       "      <td>...</td>\n",
       "    </tr>\n",
       "    <tr>\n",
       "      <th>886</th>\n",
       "      <td>887</td>\n",
       "      <td>0</td>\n",
       "      <td>2</td>\n",
       "      <td>Montvila, Rev. Juozas</td>\n",
       "      <td>male</td>\n",
       "      <td>27.0</td>\n",
       "      <td>0</td>\n",
       "      <td>0</td>\n",
       "      <td>211536</td>\n",
       "      <td>13.0000</td>\n",
       "      <td>NaN</td>\n",
       "      <td>S</td>\n",
       "    </tr>\n",
       "    <tr>\n",
       "      <th>887</th>\n",
       "      <td>888</td>\n",
       "      <td>1</td>\n",
       "      <td>1</td>\n",
       "      <td>Graham, Miss. Margaret Edith</td>\n",
       "      <td>female</td>\n",
       "      <td>19.0</td>\n",
       "      <td>0</td>\n",
       "      <td>0</td>\n",
       "      <td>112053</td>\n",
       "      <td>30.0000</td>\n",
       "      <td>B42</td>\n",
       "      <td>S</td>\n",
       "    </tr>\n",
       "    <tr>\n",
       "      <th>888</th>\n",
       "      <td>889</td>\n",
       "      <td>0</td>\n",
       "      <td>3</td>\n",
       "      <td>Johnston, Miss. Catherine Helen \"Carrie\"</td>\n",
       "      <td>female</td>\n",
       "      <td>NaN</td>\n",
       "      <td>1</td>\n",
       "      <td>2</td>\n",
       "      <td>W./C. 6607</td>\n",
       "      <td>23.4500</td>\n",
       "      <td>NaN</td>\n",
       "      <td>S</td>\n",
       "    </tr>\n",
       "    <tr>\n",
       "      <th>889</th>\n",
       "      <td>890</td>\n",
       "      <td>1</td>\n",
       "      <td>1</td>\n",
       "      <td>Behr, Mr. Karl Howell</td>\n",
       "      <td>male</td>\n",
       "      <td>26.0</td>\n",
       "      <td>0</td>\n",
       "      <td>0</td>\n",
       "      <td>111369</td>\n",
       "      <td>30.0000</td>\n",
       "      <td>C148</td>\n",
       "      <td>C</td>\n",
       "    </tr>\n",
       "    <tr>\n",
       "      <th>890</th>\n",
       "      <td>891</td>\n",
       "      <td>0</td>\n",
       "      <td>3</td>\n",
       "      <td>Dooley, Mr. Patrick</td>\n",
       "      <td>male</td>\n",
       "      <td>32.0</td>\n",
       "      <td>0</td>\n",
       "      <td>0</td>\n",
       "      <td>370376</td>\n",
       "      <td>7.7500</td>\n",
       "      <td>NaN</td>\n",
       "      <td>Q</td>\n",
       "    </tr>\n",
       "  </tbody>\n",
       "</table>\n",
       "<p>891 rows × 12 columns</p>\n",
       "</div>"
      ],
      "text/plain": [
       "     PassengerId  Survived  Pclass  \\\n",
       "0              1         0       3   \n",
       "1              2         1       1   \n",
       "2              3         1       3   \n",
       "3              4         1       1   \n",
       "4              5         0       3   \n",
       "..           ...       ...     ...   \n",
       "886          887         0       2   \n",
       "887          888         1       1   \n",
       "888          889         0       3   \n",
       "889          890         1       1   \n",
       "890          891         0       3   \n",
       "\n",
       "                                                  Name     Sex   Age  SibSp  \\\n",
       "0                              Braund, Mr. Owen Harris    male  22.0      1   \n",
       "1    Cumings, Mrs. John Bradley (Florence Briggs Th...  female  38.0      1   \n",
       "2                               Heikkinen, Miss. Laina  female  26.0      0   \n",
       "3         Futrelle, Mrs. Jacques Heath (Lily May Peel)  female  35.0      1   \n",
       "4                             Allen, Mr. William Henry    male  35.0      0   \n",
       "..                                                 ...     ...   ...    ...   \n",
       "886                              Montvila, Rev. Juozas    male  27.0      0   \n",
       "887                       Graham, Miss. Margaret Edith  female  19.0      0   \n",
       "888           Johnston, Miss. Catherine Helen \"Carrie\"  female   NaN      1   \n",
       "889                              Behr, Mr. Karl Howell    male  26.0      0   \n",
       "890                                Dooley, Mr. Patrick    male  32.0      0   \n",
       "\n",
       "     Parch            Ticket     Fare Cabin Embarked  \n",
       "0        0         A/5 21171   7.2500   NaN        S  \n",
       "1        0          PC 17599  71.2833   C85        C  \n",
       "2        0  STON/O2. 3101282   7.9250   NaN        S  \n",
       "3        0            113803  53.1000  C123        S  \n",
       "4        0            373450   8.0500   NaN        S  \n",
       "..     ...               ...      ...   ...      ...  \n",
       "886      0            211536  13.0000   NaN        S  \n",
       "887      0            112053  30.0000   B42        S  \n",
       "888      2        W./C. 6607  23.4500   NaN        S  \n",
       "889      0            111369  30.0000  C148        C  \n",
       "890      0            370376   7.7500   NaN        Q  \n",
       "\n",
       "[891 rows x 12 columns]"
      ]
     },
     "execution_count": 3,
     "metadata": {},
     "output_type": "execute_result"
    }
   ],
   "source": [
    "tds"
   ]
  },
  {
   "cell_type": "code",
   "execution_count": 4,
   "id": "df9d305b",
   "metadata": {},
   "outputs": [
    {
     "data": {
      "text/plain": [
       "Text(0.5, 1.0, 'Missing values heatmap')"
      ]
     },
     "execution_count": 4,
     "metadata": {},
     "output_type": "execute_result"
    },
    {
     "data": {
      "image/png": "[encoded data removed]",
      "text/plain": [
       "<Figure size 640x480 with 1 Axes>"
      ]
     },
     "metadata": {},
     "output_type": "display_data"
    }
   ],
   "source": [
    "tds.set_index('PassengerId', inplace = True)\n",
    "sns.heatmap(tds.isnull(), cbar = False).set_title(\"Missing values heatmap\")"
   ]
  },
  {
   "cell_type": "code",
   "execution_count": 5,
   "id": "0e7d2cc9",
   "metadata": {},
   "outputs": [
    {
     "data": {
      "text/plain": [
       "Text(0.5, 1.0, 'Percentage of people survived and Deceased')"
      ]
     },
     "execution_count": 5,
     "metadata": {},
     "output_type": "execute_result"
    },
    {
     "data": {
      "image/png": "[encoded data removed]",
      "text/plain": [
       "<Figure size 640x480 with 1 Axes>"
      ]
     },
     "metadata": {},
     "output_type": "display_data"
    }
   ],
   "source": [
    "(tds.Survived.value_counts(normalize=True) * 100).plot.barh().set_title(\"Percentage of people survived and Deceased\")"
   ]
  },
  {
   "cell_type": "code",
   "execution_count": 6,
   "id": "c4017e9d",
   "metadata": {},
   "outputs": [],
   "source": [
    "tds[\"Sex\"].replace([\"male\", \"female\"], [0, 1], inplace = True)\n",
    "\n",
    "#Iterate over Sex (0 or 1) and Pclass (3, 2, 1) to calculate guessed values of Age for the six combinations.\n",
    "guess_ages = np.zeros((2,3))\n",
    "\n",
    "\n",
    "for i in range(0, 2):\n",
    "    for j in range(0, 3):\n",
    "        guess_df = tds[(tds['Sex'] == i) & \\\n",
    "                              (tds['Pclass'] == j+1)]['Age'].dropna()\n",
    "\n",
    "        age_guess = guess_df.median()\n",
    "\n",
    "        # Convert random age float to nearest .5 age\n",
    "        guess_ages[i,j] = int( age_guess/0.5 + 0.5 ) * 0.5\n",
    "\n",
    "for i in range(0, 2):\n",
    "    for j in range(0, 3):\n",
    "        tds.loc[ (tds.Age.isnull()) & (tds.Sex == i) & (tds.Pclass == j+1),\\\n",
    "                'Age'] = guess_ages[i,j]\n",
    "\n",
    "tds['Age'] = tds['Age'].astype(int)"
   ]
  },
  {
   "cell_type": "code",
   "execution_count": 7,
   "id": "d3227105",
   "metadata": {},
   "outputs": [
    {
     "data": {
      "text/plain": [
       "<matplotlib.legend.Legend at 0x1e63ae66e20>"
      ]
     },
     "execution_count": 7,
     "metadata": {},
     "output_type": "execute_result"
    },
    {
     "data": {
      "image/png": "[encoded data removed]",
      "text/plain": [
       "<Figure size 640x480 with 1 Axes>"
      ]
     },
     "metadata": {},
     "output_type": "display_data"
    }
   ],
   "source": [
    "#Plot the relation between age and survival\n",
    "tds['AgeBand'] = pd.cut(tds['Age'], 5, labels = [\"0\", \"1\", \"2\", \"3\", \"4\"])\n",
    "tds['AgeBand'] = tds['AgeBand'].astype(int)\n",
    "sns.countplot(x = \"AgeBand\", hue = \"Survived\", data = tds, palette=[\"C0\", \"C1\"]).legend(labels = [\"Deceased\", \"Survived\"])"
   ]
  },
  {
   "cell_type": "code",
   "execution_count": 8,
   "id": "670a822f",
   "metadata": {},
   "outputs": [
    {
     "data": {
      "text/plain": [
       "<matplotlib.legend.Legend at 0x1e63aea9be0>"
      ]
     },
     "execution_count": 8,
     "metadata": {},
     "output_type": "execute_result"
    },
    {
     "data": {
      "image/png": "[encoded data removed]",
      "text/plain": [
       "<Figure size 640x480 with 1 Axes>"
      ]
     },
     "metadata": {},
     "output_type": "display_data"
    }
   ],
   "source": [
    "#Plot the relation between fare and survival\n",
    "tds['FareBand'] = pd.cut(tds['Fare'], 5, labels = [\"0\", \"1\", \"2\", \"3\", \"4\"])\n",
    "tds['FareBand'] = tds['FareBand'].astype(int)\n",
    "sns.countplot(x = \"FareBand\", hue = \"Survived\", data = tds, palette=[\"C0\", \"C1\"]).legend(labels = [\"Deceased\", \"Survived\"])"
   ]
  },
  {
   "cell_type": "code",
   "execution_count": 9,
   "id": "775f3454",
   "metadata": {},
   "outputs": [
    {
     "data": {
      "text/plain": [
       "Text(0.5, 1.0, 'Survival based on embarking point')"
      ]
     },
     "execution_count": 9,
     "metadata": {},
     "output_type": "execute_result"
    },
    {
     "data": {
      "image/png": "[encoded data removed]",
      "text/plain": [
       "<Figure size 640x480 with 1 Axes>"
      ]
     },
     "metadata": {},
     "output_type": "display_data"
    }
   ],
   "source": [
    "#Embarked has 1 missing value hence we fill it with the most common occurence\n",
    "tds['Embarked'] = tds['Embarked'].fillna(tds.Embarked.dropna().mode()[0])\n",
    "\n",
    "#Plot the relation between embarked and survival\n",
    "p = sns.countplot(x = \"Embarked\", hue = \"Survived\", data = tds, palette=[\"C0\", \"C1\"])\n",
    "p.set_xticklabels([\"Southampton\",\"Cherbourg\",\"Queenstown\"])\n",
    "p.legend(labels = [\"Deceased\", \"Survived\"])\n",
    "p.set_title(\"Survival based on embarking point\")"
   ]
  },
  {
   "cell_type": "code",
   "execution_count": 10,
   "id": "a2aa1f3c",
   "metadata": {},
   "outputs": [
    {
     "data": {
      "text/html": [
       "<div>\n",
       "<style scoped>\n",
       "    .dataframe tbody tr th:only-of-type {\n",
       "        vertical-align: middle;\n",
       "    }\n",
       "\n",
       "    .dataframe tbody tr th {\n",
       "        vertical-align: top;\n",
       "    }\n",
       "\n",
       "    .dataframe thead th {\n",
       "        text-align: right;\n",
       "    }\n",
       "</style>\n",
       "<table border=\"1\" class=\"dataframe\">\n",
       "  <thead>\n",
       "    <tr style=\"text-align: right;\">\n",
       "      <th></th>\n",
       "      <th>Embarked</th>\n",
       "      <th>Survived</th>\n",
       "    </tr>\n",
       "  </thead>\n",
       "  <tbody>\n",
       "    <tr>\n",
       "      <th>0</th>\n",
       "      <td>C</td>\n",
       "      <td>0.553571</td>\n",
       "    </tr>\n",
       "    <tr>\n",
       "      <th>1</th>\n",
       "      <td>Q</td>\n",
       "      <td>0.389610</td>\n",
       "    </tr>\n",
       "    <tr>\n",
       "      <th>2</th>\n",
       "      <td>S</td>\n",
       "      <td>0.339009</td>\n",
       "    </tr>\n",
       "  </tbody>\n",
       "</table>\n",
       "</div>"
      ],
      "text/plain": [
       "  Embarked  Survived\n",
       "0        C  0.553571\n",
       "1        Q  0.389610\n",
       "2        S  0.339009"
      ]
     },
     "execution_count": 10,
     "metadata": {},
     "output_type": "execute_result"
    }
   ],
   "source": [
    "tds[['Embarked', 'Survived']].groupby(['Embarked'], as_index=False).mean()"
   ]
  },
  {
   "cell_type": "code",
   "execution_count": 11,
   "id": "13c6031f",
   "metadata": {},
   "outputs": [],
   "source": [
    "#Find the relation between title and Survival\n",
    "tds['Title'] = tds.Name.apply(lambda name: name.split(',')[1].split('.')[0].strip())\n",
    "\n",
    "tds['Title'].replace(['Lady', 'Countess','Capt', 'Col','Don', 'Dr', 'Major', 'Rev', 'Sir', 'Jonkheer', 'Dona', 'the Countess'], 'Rare', inplace = True)\n",
    "tds['Title'].replace(['Mlle'], ['Miss'], inplace = True)\n",
    "tds['Title'].replace(['Ms'], ['Miss'], inplace = True)\n",
    "tds['Title'].replace(['Mme'], ['Mrs'], inplace = True)"
   ]
  },
  {
   "cell_type": "code",
   "execution_count": 12,
   "id": "9457d16e",
   "metadata": {},
   "outputs": [
    {
     "data": {
      "text/plain": [
       "<matplotlib.legend.Legend at 0x1e63b0e40d0>"
      ]
     },
     "execution_count": 12,
     "metadata": {},
     "output_type": "execute_result"
    },
    {
     "data": {
      "image/png": "[encoded data removed]",
      "text/plain": [
       "<Figure size 640x480 with 1 Axes>"
      ]
     },
     "metadata": {},
     "output_type": "display_data"
    }
   ],
   "source": [
    "sns.countplot(x = \"Title\", hue = \"Survived\", data = tds, palette=[\"C0\", \"C1\"]).legend(labels = [\"Deceased\", \"Survived\"])"
   ]
  },
  {
   "cell_type": "code",
   "execution_count": 13,
   "id": "d97ee7ca",
   "metadata": {},
   "outputs": [
    {
     "data": {
      "text/html": [
       "<div>\n",
       "<style scoped>\n",
       "    .dataframe tbody tr th:only-of-type {\n",
       "        vertical-align: middle;\n",
       "    }\n",
       "\n",
       "    .dataframe tbody tr th {\n",
       "        vertical-align: top;\n",
       "    }\n",
       "\n",
       "    .dataframe thead th {\n",
       "        text-align: right;\n",
       "    }\n",
       "</style>\n",
       "<table border=\"1\" class=\"dataframe\">\n",
       "  <thead>\n",
       "    <tr style=\"text-align: right;\">\n",
       "      <th></th>\n",
       "      <th>Title</th>\n",
       "      <th>Survived</th>\n",
       "    </tr>\n",
       "  </thead>\n",
       "  <tbody>\n",
       "    <tr>\n",
       "      <th>0</th>\n",
       "      <td>0</td>\n",
       "      <td>0.156673</td>\n",
       "    </tr>\n",
       "    <tr>\n",
       "      <th>1</th>\n",
       "      <td>1</td>\n",
       "      <td>0.347826</td>\n",
       "    </tr>\n",
       "    <tr>\n",
       "      <th>2</th>\n",
       "      <td>2</td>\n",
       "      <td>0.575000</td>\n",
       "    </tr>\n",
       "    <tr>\n",
       "      <th>3</th>\n",
       "      <td>3</td>\n",
       "      <td>0.793651</td>\n",
       "    </tr>\n",
       "    <tr>\n",
       "      <th>4</th>\n",
       "      <td>4</td>\n",
       "      <td>0.702703</td>\n",
       "    </tr>\n",
       "  </tbody>\n",
       "</table>\n",
       "</div>"
      ],
      "text/plain": [
       "   Title  Survived\n",
       "0      0  0.156673\n",
       "1      1  0.347826\n",
       "2      2  0.575000\n",
       "3      3  0.793651\n",
       "4      4  0.702703"
      ]
     },
     "execution_count": 13,
     "metadata": {},
     "output_type": "execute_result"
    }
   ],
   "source": [
    "tds[\"Title\"].replace([\"Mr\", \"Rare\", \"Master\", \"Miss\", \"Mrs\"], [0, 1, 2, 4, 3], inplace = True)\n",
    "tds[['Title', 'Survived']].groupby(['Title'], as_index=False).mean()"
   ]
  },
  {
   "cell_type": "code",
   "execution_count": 14,
   "id": "8eda87f1",
   "metadata": {},
   "outputs": [
    {
     "data": {
      "text/html": [
       "<div>\n",
       "<style scoped>\n",
       "    .dataframe tbody tr th:only-of-type {\n",
       "        vertical-align: middle;\n",
       "    }\n",
       "\n",
       "    .dataframe tbody tr th {\n",
       "        vertical-align: top;\n",
       "    }\n",
       "\n",
       "    .dataframe thead th {\n",
       "        text-align: right;\n",
       "    }\n",
       "</style>\n",
       "<table border=\"1\" class=\"dataframe\">\n",
       "  <thead>\n",
       "    <tr style=\"text-align: right;\">\n",
       "      <th></th>\n",
       "      <th>Pclass</th>\n",
       "      <th>Survived</th>\n",
       "    </tr>\n",
       "  </thead>\n",
       "  <tbody>\n",
       "    <tr>\n",
       "      <th>2</th>\n",
       "      <td>2</td>\n",
       "      <td>0.629630</td>\n",
       "    </tr>\n",
       "    <tr>\n",
       "      <th>1</th>\n",
       "      <td>1</td>\n",
       "      <td>0.472826</td>\n",
       "    </tr>\n",
       "    <tr>\n",
       "      <th>0</th>\n",
       "      <td>0</td>\n",
       "      <td>0.242363</td>\n",
       "    </tr>\n",
       "  </tbody>\n",
       "</table>\n",
       "</div>"
      ],
      "text/plain": [
       "   Pclass  Survived\n",
       "2       2  0.629630\n",
       "1       1  0.472826\n",
       "0       0  0.242363"
      ]
     },
     "execution_count": 14,
     "metadata": {},
     "output_type": "execute_result"
    }
   ],
   "source": [
    "#Find the relation between Pclass and Survival\n",
    "tds[\"Pclass\"].replace([1, 2, 3], [2, 1, 0], inplace = True)\n",
    "tds[['Pclass', 'Survived']].groupby(['Pclass'], as_index=False).mean().sort_values(by='Survived', ascending=False)"
   ]
  },
  {
   "cell_type": "code",
   "execution_count": 15,
   "id": "b3eb3c96",
   "metadata": {},
   "outputs": [
    {
     "data": {
      "text/html": [
       "<div>\n",
       "<style scoped>\n",
       "    .dataframe tbody tr th:only-of-type {\n",
       "        vertical-align: middle;\n",
       "    }\n",
       "\n",
       "    .dataframe tbody tr th {\n",
       "        vertical-align: top;\n",
       "    }\n",
       "\n",
       "    .dataframe thead th {\n",
       "        text-align: right;\n",
       "    }\n",
       "</style>\n",
       "<table border=\"1\" class=\"dataframe\">\n",
       "  <thead>\n",
       "    <tr style=\"text-align: right;\">\n",
       "      <th></th>\n",
       "      <th>SibSp</th>\n",
       "      <th>Survived</th>\n",
       "    </tr>\n",
       "  </thead>\n",
       "  <tbody>\n",
       "    <tr>\n",
       "      <th>1</th>\n",
       "      <td>1</td>\n",
       "      <td>0.535885</td>\n",
       "    </tr>\n",
       "    <tr>\n",
       "      <th>2</th>\n",
       "      <td>2</td>\n",
       "      <td>0.464286</td>\n",
       "    </tr>\n",
       "    <tr>\n",
       "      <th>0</th>\n",
       "      <td>0</td>\n",
       "      <td>0.345395</td>\n",
       "    </tr>\n",
       "    <tr>\n",
       "      <th>3</th>\n",
       "      <td>3</td>\n",
       "      <td>0.250000</td>\n",
       "    </tr>\n",
       "    <tr>\n",
       "      <th>4</th>\n",
       "      <td>4</td>\n",
       "      <td>0.166667</td>\n",
       "    </tr>\n",
       "    <tr>\n",
       "      <th>5</th>\n",
       "      <td>5</td>\n",
       "      <td>0.000000</td>\n",
       "    </tr>\n",
       "    <tr>\n",
       "      <th>6</th>\n",
       "      <td>8</td>\n",
       "      <td>0.000000</td>\n",
       "    </tr>\n",
       "  </tbody>\n",
       "</table>\n",
       "</div>"
      ],
      "text/plain": [
       "   SibSp  Survived\n",
       "1      1  0.535885\n",
       "2      2  0.464286\n",
       "0      0  0.345395\n",
       "3      3  0.250000\n",
       "4      4  0.166667\n",
       "5      5  0.000000\n",
       "6      8  0.000000"
      ]
     },
     "execution_count": 15,
     "metadata": {},
     "output_type": "execute_result"
    }
   ],
   "source": [
    "#Find the relation between SibSp and Survival\n",
    "tds[[\"SibSp\", \"Survived\"]].groupby(['SibSp'], as_index=False).mean().sort_values(by='Survived', ascending=False)"
   ]
  },
  {
   "cell_type": "code",
   "execution_count": 16,
   "id": "fbf19dfe",
   "metadata": {},
   "outputs": [
    {
     "data": {
      "text/html": [
       "<div>\n",
       "<style scoped>\n",
       "    .dataframe tbody tr th:only-of-type {\n",
       "        vertical-align: middle;\n",
       "    }\n",
       "\n",
       "    .dataframe tbody tr th {\n",
       "        vertical-align: top;\n",
       "    }\n",
       "\n",
       "    .dataframe thead th {\n",
       "        text-align: right;\n",
       "    }\n",
       "</style>\n",
       "<table border=\"1\" class=\"dataframe\">\n",
       "  <thead>\n",
       "    <tr style=\"text-align: right;\">\n",
       "      <th></th>\n",
       "      <th>Parch</th>\n",
       "      <th>Survived</th>\n",
       "    </tr>\n",
       "  </thead>\n",
       "  <tbody>\n",
       "    <tr>\n",
       "      <th>3</th>\n",
       "      <td>3</td>\n",
       "      <td>0.600000</td>\n",
       "    </tr>\n",
       "    <tr>\n",
       "      <th>1</th>\n",
       "      <td>1</td>\n",
       "      <td>0.550847</td>\n",
       "    </tr>\n",
       "    <tr>\n",
       "      <th>2</th>\n",
       "      <td>2</td>\n",
       "      <td>0.500000</td>\n",
       "    </tr>\n",
       "    <tr>\n",
       "      <th>0</th>\n",
       "      <td>0</td>\n",
       "      <td>0.343658</td>\n",
       "    </tr>\n",
       "    <tr>\n",
       "      <th>5</th>\n",
       "      <td>5</td>\n",
       "      <td>0.200000</td>\n",
       "    </tr>\n",
       "    <tr>\n",
       "      <th>4</th>\n",
       "      <td>4</td>\n",
       "      <td>0.000000</td>\n",
       "    </tr>\n",
       "    <tr>\n",
       "      <th>6</th>\n",
       "      <td>6</td>\n",
       "      <td>0.000000</td>\n",
       "    </tr>\n",
       "  </tbody>\n",
       "</table>\n",
       "</div>"
      ],
      "text/plain": [
       "   Parch  Survived\n",
       "3      3  0.600000\n",
       "1      1  0.550847\n",
       "2      2  0.500000\n",
       "0      0  0.343658\n",
       "5      5  0.200000\n",
       "4      4  0.000000\n",
       "6      6  0.000000"
      ]
     },
     "execution_count": 16,
     "metadata": {},
     "output_type": "execute_result"
    }
   ],
   "source": [
    "#Find the relation between Parch and Survival\n",
    "tds[[\"Parch\", \"Survived\"]].groupby(['Parch'], as_index=False).mean().sort_values(by='Survived', ascending=False)"
   ]
  },
  {
   "cell_type": "code",
   "execution_count": 17,
   "id": "dda4e1fa",
   "metadata": {},
   "outputs": [
    {
     "data": {
      "text/plain": [
       "<matplotlib.legend.Legend at 0x1e63b2453d0>"
      ]
     },
     "execution_count": 17,
     "metadata": {},
     "output_type": "execute_result"
    },
    {
     "data": {
      "image/png": "[encoded data removed]",
      "text/plain": [
       "<Figure size 640x480 with 1 Axes>"
      ]
     },
     "metadata": {},
     "output_type": "display_data"
    }
   ],
   "source": [
    "tds[\"Cabin\"] = tds[\"Cabin\"].apply(lambda x : x[0] if pd.notna(x) else \"na\")\n",
    "sns.countplot(x = \"Cabin\", hue = \"Survived\", data = tds, palette=[\"C0\", \"C1\"]).legend(labels = [\"Deceased\", \"Survived\"])"
   ]
  },
  {
   "cell_type": "code",
   "execution_count": 18,
   "id": "9704fa65",
   "metadata": {},
   "outputs": [
    {
     "data": {
      "text/html": [
       "<div>\n",
       "<style scoped>\n",
       "    .dataframe tbody tr th:only-of-type {\n",
       "        vertical-align: middle;\n",
       "    }\n",
       "\n",
       "    .dataframe tbody tr th {\n",
       "        vertical-align: top;\n",
       "    }\n",
       "\n",
       "    .dataframe thead th {\n",
       "        text-align: right;\n",
       "    }\n",
       "</style>\n",
       "<table border=\"1\" class=\"dataframe\">\n",
       "  <thead>\n",
       "    <tr style=\"text-align: right;\">\n",
       "      <th></th>\n",
       "      <th>Cabin</th>\n",
       "      <th>Survived</th>\n",
       "    </tr>\n",
       "  </thead>\n",
       "  <tbody>\n",
       "    <tr>\n",
       "      <th>3</th>\n",
       "      <td>D</td>\n",
       "      <td>0.757576</td>\n",
       "    </tr>\n",
       "    <tr>\n",
       "      <th>4</th>\n",
       "      <td>E</td>\n",
       "      <td>0.750000</td>\n",
       "    </tr>\n",
       "    <tr>\n",
       "      <th>1</th>\n",
       "      <td>B</td>\n",
       "      <td>0.744681</td>\n",
       "    </tr>\n",
       "    <tr>\n",
       "      <th>5</th>\n",
       "      <td>F</td>\n",
       "      <td>0.615385</td>\n",
       "    </tr>\n",
       "    <tr>\n",
       "      <th>2</th>\n",
       "      <td>C</td>\n",
       "      <td>0.593220</td>\n",
       "    </tr>\n",
       "    <tr>\n",
       "      <th>6</th>\n",
       "      <td>G</td>\n",
       "      <td>0.500000</td>\n",
       "    </tr>\n",
       "    <tr>\n",
       "      <th>0</th>\n",
       "      <td>A</td>\n",
       "      <td>0.466667</td>\n",
       "    </tr>\n",
       "    <tr>\n",
       "      <th>8</th>\n",
       "      <td>na</td>\n",
       "      <td>0.299854</td>\n",
       "    </tr>\n",
       "    <tr>\n",
       "      <th>7</th>\n",
       "      <td>T</td>\n",
       "      <td>0.000000</td>\n",
       "    </tr>\n",
       "  </tbody>\n",
       "</table>\n",
       "</div>"
      ],
      "text/plain": [
       "  Cabin  Survived\n",
       "3     D  0.757576\n",
       "4     E  0.750000\n",
       "1     B  0.744681\n",
       "5     F  0.615385\n",
       "2     C  0.593220\n",
       "6     G  0.500000\n",
       "0     A  0.466667\n",
       "8    na  0.299854\n",
       "7     T  0.000000"
      ]
     },
     "execution_count": 18,
     "metadata": {},
     "output_type": "execute_result"
    }
   ],
   "source": [
    "tds[[\"Cabin\", \"Survived\"]].groupby(['Cabin'], as_index=False).mean().sort_values(by='Survived', ascending=False)"
   ]
  },
  {
   "cell_type": "code",
   "execution_count": 19,
   "id": "eaa62848",
   "metadata": {},
   "outputs": [
    {
     "data": {
      "text/plain": [
       "array(['na', 'C', 'E', 'G', 'D', 'A', 'B', 'F', 'T'], dtype=object)"
      ]
     },
     "execution_count": 19,
     "metadata": {},
     "output_type": "execute_result"
    }
   ],
   "source": [
    "tds.Cabin.unique()"
   ]
  },
  {
   "cell_type": "code",
   "execution_count": 20,
   "id": "b08f417d",
   "metadata": {},
   "outputs": [],
   "source": [
    "# Label_Encoding \n",
    "tds[\"Cabin\"].replace(['na', 'C', 'E', 'G', 'D', 'A', 'B', 'F', 'T'], [1, 4, 7, 3, 8, 2, 6, 5, 0], inplace = True)\n",
    "tds[\"Embarked\"].replace(['C', \"Q\", \"S\"], [2, 1, 0], inplace = True)"
   ]
  },
  {
   "cell_type": "code",
   "execution_count": 21,
   "id": "4809cad8",
   "metadata": {},
   "outputs": [
    {
     "data": {
      "text/plain": [
       "Text(0.5, 1.0, 'Missing values heatmap')"
      ]
     },
     "execution_count": 21,
     "metadata": {},
     "output_type": "execute_result"
    },
    {
     "data": {
      "image/png": "[encoded data removed]",
      "text/plain": [
       "<Figure size 640x480 with 1 Axes>"
      ]
     },
     "metadata": {},
     "output_type": "display_data"
    }
   ],
   "source": [
    "sns.heatmap(tds.isnull(), cbar = False).set_title(\"Missing values heatmap\")"
   ]
  },
  {
   "cell_type": "code",
   "execution_count": 22,
   "id": "98bfdcba",
   "metadata": {},
   "outputs": [
    {
     "data": {
      "text/html": [
       "<div>\n",
       "<style scoped>\n",
       "    .dataframe tbody tr th:only-of-type {\n",
       "        vertical-align: middle;\n",
       "    }\n",
       "\n",
       "    .dataframe tbody tr th {\n",
       "        vertical-align: top;\n",
       "    }\n",
       "\n",
       "    .dataframe thead th {\n",
       "        text-align: right;\n",
       "    }\n",
       "</style>\n",
       "<table border=\"1\" class=\"dataframe\">\n",
       "  <thead>\n",
       "    <tr style=\"text-align: right;\">\n",
       "      <th></th>\n",
       "      <th>Survived</th>\n",
       "      <th>Pclass</th>\n",
       "      <th>Sex</th>\n",
       "      <th>SibSp</th>\n",
       "      <th>Parch</th>\n",
       "      <th>Cabin</th>\n",
       "      <th>Embarked</th>\n",
       "      <th>AgeBand</th>\n",
       "      <th>FareBand</th>\n",
       "      <th>Title</th>\n",
       "    </tr>\n",
       "    <tr>\n",
       "      <th>PassengerId</th>\n",
       "      <th></th>\n",
       "      <th></th>\n",
       "      <th></th>\n",
       "      <th></th>\n",
       "      <th></th>\n",
       "      <th></th>\n",
       "      <th></th>\n",
       "      <th></th>\n",
       "      <th></th>\n",
       "      <th></th>\n",
       "    </tr>\n",
       "  </thead>\n",
       "  <tbody>\n",
       "    <tr>\n",
       "      <th>1</th>\n",
       "      <td>0</td>\n",
       "      <td>0</td>\n",
       "      <td>0</td>\n",
       "      <td>1</td>\n",
       "      <td>0</td>\n",
       "      <td>1</td>\n",
       "      <td>0</td>\n",
       "      <td>1</td>\n",
       "      <td>0</td>\n",
       "      <td>0</td>\n",
       "    </tr>\n",
       "    <tr>\n",
       "      <th>2</th>\n",
       "      <td>1</td>\n",
       "      <td>2</td>\n",
       "      <td>1</td>\n",
       "      <td>1</td>\n",
       "      <td>0</td>\n",
       "      <td>4</td>\n",
       "      <td>2</td>\n",
       "      <td>2</td>\n",
       "      <td>0</td>\n",
       "      <td>3</td>\n",
       "    </tr>\n",
       "    <tr>\n",
       "      <th>3</th>\n",
       "      <td>1</td>\n",
       "      <td>0</td>\n",
       "      <td>1</td>\n",
       "      <td>0</td>\n",
       "      <td>0</td>\n",
       "      <td>1</td>\n",
       "      <td>0</td>\n",
       "      <td>1</td>\n",
       "      <td>0</td>\n",
       "      <td>4</td>\n",
       "    </tr>\n",
       "    <tr>\n",
       "      <th>4</th>\n",
       "      <td>1</td>\n",
       "      <td>2</td>\n",
       "      <td>1</td>\n",
       "      <td>1</td>\n",
       "      <td>0</td>\n",
       "      <td>4</td>\n",
       "      <td>0</td>\n",
       "      <td>2</td>\n",
       "      <td>0</td>\n",
       "      <td>3</td>\n",
       "    </tr>\n",
       "    <tr>\n",
       "      <th>5</th>\n",
       "      <td>0</td>\n",
       "      <td>0</td>\n",
       "      <td>0</td>\n",
       "      <td>0</td>\n",
       "      <td>0</td>\n",
       "      <td>1</td>\n",
       "      <td>0</td>\n",
       "      <td>2</td>\n",
       "      <td>0</td>\n",
       "      <td>0</td>\n",
       "    </tr>\n",
       "    <tr>\n",
       "      <th>...</th>\n",
       "      <td>...</td>\n",
       "      <td>...</td>\n",
       "      <td>...</td>\n",
       "      <td>...</td>\n",
       "      <td>...</td>\n",
       "      <td>...</td>\n",
       "      <td>...</td>\n",
       "      <td>...</td>\n",
       "      <td>...</td>\n",
       "      <td>...</td>\n",
       "    </tr>\n",
       "    <tr>\n",
       "      <th>887</th>\n",
       "      <td>0</td>\n",
       "      <td>1</td>\n",
       "      <td>0</td>\n",
       "      <td>0</td>\n",
       "      <td>0</td>\n",
       "      <td>1</td>\n",
       "      <td>0</td>\n",
       "      <td>1</td>\n",
       "      <td>0</td>\n",
       "      <td>1</td>\n",
       "    </tr>\n",
       "    <tr>\n",
       "      <th>888</th>\n",
       "      <td>1</td>\n",
       "      <td>2</td>\n",
       "      <td>1</td>\n",
       "      <td>0</td>\n",
       "      <td>0</td>\n",
       "      <td>6</td>\n",
       "      <td>0</td>\n",
       "      <td>1</td>\n",
       "      <td>0</td>\n",
       "      <td>4</td>\n",
       "    </tr>\n",
       "    <tr>\n",
       "      <th>889</th>\n",
       "      <td>0</td>\n",
       "      <td>0</td>\n",
       "      <td>1</td>\n",
       "      <td>1</td>\n",
       "      <td>2</td>\n",
       "      <td>1</td>\n",
       "      <td>0</td>\n",
       "      <td>1</td>\n",
       "      <td>0</td>\n",
       "      <td>4</td>\n",
       "    </tr>\n",
       "    <tr>\n",
       "      <th>890</th>\n",
       "      <td>1</td>\n",
       "      <td>2</td>\n",
       "      <td>0</td>\n",
       "      <td>0</td>\n",
       "      <td>0</td>\n",
       "      <td>4</td>\n",
       "      <td>2</td>\n",
       "      <td>1</td>\n",
       "      <td>0</td>\n",
       "      <td>0</td>\n",
       "    </tr>\n",
       "    <tr>\n",
       "      <th>891</th>\n",
       "      <td>0</td>\n",
       "      <td>0</td>\n",
       "      <td>0</td>\n",
       "      <td>0</td>\n",
       "      <td>0</td>\n",
       "      <td>1</td>\n",
       "      <td>1</td>\n",
       "      <td>1</td>\n",
       "      <td>0</td>\n",
       "      <td>0</td>\n",
       "    </tr>\n",
       "  </tbody>\n",
       "</table>\n",
       "<p>891 rows × 10 columns</p>\n",
       "</div>"
      ],
      "text/plain": [
       "             Survived  Pclass  Sex  SibSp  Parch  Cabin  Embarked  AgeBand  \\\n",
       "PassengerId                                                                  \n",
       "1                   0       0    0      1      0      1         0        1   \n",
       "2                   1       2    1      1      0      4         2        2   \n",
       "3                   1       0    1      0      0      1         0        1   \n",
       "4                   1       2    1      1      0      4         0        2   \n",
       "5                   0       0    0      0      0      1         0        2   \n",
       "...               ...     ...  ...    ...    ...    ...       ...      ...   \n",
       "887                 0       1    0      0      0      1         0        1   \n",
       "888                 1       2    1      0      0      6         0        1   \n",
       "889                 0       0    1      1      2      1         0        1   \n",
       "890                 1       2    0      0      0      4         2        1   \n",
       "891                 0       0    0      0      0      1         1        1   \n",
       "\n",
       "             FareBand  Title  \n",
       "PassengerId                   \n",
       "1                   0      0  \n",
       "2                   0      3  \n",
       "3                   0      4  \n",
       "4                   0      3  \n",
       "5                   0      0  \n",
       "...               ...    ...  \n",
       "887                 0      1  \n",
       "888                 0      4  \n",
       "889                 0      4  \n",
       "890                 0      0  \n",
       "891                 0      0  \n",
       "\n",
       "[891 rows x 10 columns]"
      ]
     },
     "execution_count": 22,
     "metadata": {},
     "output_type": "execute_result"
    }
   ],
   "source": [
    "tds = tds.drop([\"Name\", \"Ticket\", \"Age\", \"Fare\"], axis = 1)\n",
    "tds"
   ]
  },
  {
   "cell_type": "code",
   "execution_count": 23,
   "id": "8bb3084f",
   "metadata": {},
   "outputs": [
    {
     "data": {
      "text/html": [
       "<div>\n",
       "<style scoped>\n",
       "    .dataframe tbody tr th:only-of-type {\n",
       "        vertical-align: middle;\n",
       "    }\n",
       "\n",
       "    .dataframe tbody tr th {\n",
       "        vertical-align: top;\n",
       "    }\n",
       "\n",
       "    .dataframe thead th {\n",
       "        text-align: right;\n",
       "    }\n",
       "</style>\n",
       "<table border=\"1\" class=\"dataframe\">\n",
       "  <thead>\n",
       "    <tr style=\"text-align: right;\">\n",
       "      <th></th>\n",
       "      <th>Survived</th>\n",
       "      <th>Pclass</th>\n",
       "      <th>Sex</th>\n",
       "      <th>SibSp</th>\n",
       "      <th>Parch</th>\n",
       "      <th>Cabin</th>\n",
       "      <th>Embarked</th>\n",
       "      <th>AgeBand</th>\n",
       "      <th>FareBand</th>\n",
       "      <th>Title</th>\n",
       "    </tr>\n",
       "  </thead>\n",
       "  <tbody>\n",
       "    <tr>\n",
       "      <th>Survived</th>\n",
       "      <td>1.000000</td>\n",
       "      <td>0.338481</td>\n",
       "      <td>0.543351</td>\n",
       "      <td>-0.035322</td>\n",
       "      <td>0.081629</td>\n",
       "      <td>0.328063</td>\n",
       "      <td>0.167675</td>\n",
       "      <td>-0.037059</td>\n",
       "      <td>0.165780</td>\n",
       "      <td>0.547205</td>\n",
       "    </tr>\n",
       "    <tr>\n",
       "      <th>Pclass</th>\n",
       "      <td>0.338481</td>\n",
       "      <td>1.000000</td>\n",
       "      <td>0.131900</td>\n",
       "      <td>-0.083081</td>\n",
       "      <td>-0.018443</td>\n",
       "      <td>0.660275</td>\n",
       "      <td>0.162098</td>\n",
       "      <td>0.418829</td>\n",
       "      <td>0.347834</td>\n",
       "      <td>0.101240</td>\n",
       "    </tr>\n",
       "    <tr>\n",
       "      <th>Sex</th>\n",
       "      <td>0.543351</td>\n",
       "      <td>0.131900</td>\n",
       "      <td>1.000000</td>\n",
       "      <td>0.114631</td>\n",
       "      <td>0.245489</td>\n",
       "      <td>0.160274</td>\n",
       "      <td>0.108262</td>\n",
       "      <td>-0.074935</td>\n",
       "      <td>0.118639</td>\n",
       "      <td>0.949240</td>\n",
       "    </tr>\n",
       "    <tr>\n",
       "      <th>SibSp</th>\n",
       "      <td>-0.035322</td>\n",
       "      <td>-0.083081</td>\n",
       "      <td>0.114631</td>\n",
       "      <td>1.000000</td>\n",
       "      <td>0.414838</td>\n",
       "      <td>-0.041693</td>\n",
       "      <td>-0.068230</td>\n",
       "      <td>-0.228739</td>\n",
       "      <td>0.022148</td>\n",
       "      <td>0.199207</td>\n",
       "    </tr>\n",
       "    <tr>\n",
       "      <th>Parch</th>\n",
       "      <td>0.081629</td>\n",
       "      <td>-0.018443</td>\n",
       "      <td>0.245489</td>\n",
       "      <td>0.414838</td>\n",
       "      <td>1.000000</td>\n",
       "      <td>0.028468</td>\n",
       "      <td>-0.039798</td>\n",
       "      <td>-0.150458</td>\n",
       "      <td>0.139083</td>\n",
       "      <td>0.291817</td>\n",
       "    </tr>\n",
       "    <tr>\n",
       "      <th>Cabin</th>\n",
       "      <td>0.328063</td>\n",
       "      <td>0.660275</td>\n",
       "      <td>0.160274</td>\n",
       "      <td>-0.041693</td>\n",
       "      <td>0.028468</td>\n",
       "      <td>1.000000</td>\n",
       "      <td>0.140830</td>\n",
       "      <td>0.261144</td>\n",
       "      <td>0.252812</td>\n",
       "      <td>0.134484</td>\n",
       "    </tr>\n",
       "    <tr>\n",
       "      <th>Embarked</th>\n",
       "      <td>0.167675</td>\n",
       "      <td>0.162098</td>\n",
       "      <td>0.108262</td>\n",
       "      <td>-0.068230</td>\n",
       "      <td>-0.039798</td>\n",
       "      <td>0.140830</td>\n",
       "      <td>1.000000</td>\n",
       "      <td>0.015525</td>\n",
       "      <td>0.203933</td>\n",
       "      <td>0.107094</td>\n",
       "    </tr>\n",
       "    <tr>\n",
       "      <th>AgeBand</th>\n",
       "      <td>-0.037059</td>\n",
       "      <td>0.418829</td>\n",
       "      <td>-0.074935</td>\n",
       "      <td>-0.228739</td>\n",
       "      <td>-0.150458</td>\n",
       "      <td>0.261144</td>\n",
       "      <td>0.015525</td>\n",
       "      <td>1.000000</td>\n",
       "      <td>0.080791</td>\n",
       "      <td>-0.188478</td>\n",
       "    </tr>\n",
       "    <tr>\n",
       "      <th>FareBand</th>\n",
       "      <td>0.165780</td>\n",
       "      <td>0.347834</td>\n",
       "      <td>0.118639</td>\n",
       "      <td>0.022148</td>\n",
       "      <td>0.139083</td>\n",
       "      <td>0.252812</td>\n",
       "      <td>0.203933</td>\n",
       "      <td>0.080791</td>\n",
       "      <td>1.000000</td>\n",
       "      <td>0.121274</td>\n",
       "    </tr>\n",
       "    <tr>\n",
       "      <th>Title</th>\n",
       "      <td>0.547205</td>\n",
       "      <td>0.101240</td>\n",
       "      <td>0.949240</td>\n",
       "      <td>0.199207</td>\n",
       "      <td>0.291817</td>\n",
       "      <td>0.134484</td>\n",
       "      <td>0.107094</td>\n",
       "      <td>-0.188478</td>\n",
       "      <td>0.121274</td>\n",
       "      <td>1.000000</td>\n",
       "    </tr>\n",
       "  </tbody>\n",
       "</table>\n",
       "</div>"
      ],
      "text/plain": [
       "          Survived    Pclass       Sex     SibSp     Parch     Cabin  \\\n",
       "Survived  1.000000  0.338481  0.543351 -0.035322  0.081629  0.328063   \n",
       "Pclass    0.338481  1.000000  0.131900 -0.083081 -0.018443  0.660275   \n",
       "Sex       0.543351  0.131900  1.000000  0.114631  0.245489  0.160274   \n",
       "SibSp    -0.035322 -0.083081  0.114631  1.000000  0.414838 -0.041693   \n",
       "Parch     0.081629 -0.018443  0.245489  0.414838  1.000000  0.028468   \n",
       "Cabin     0.328063  0.660275  0.160274 -0.041693  0.028468  1.000000   \n",
       "Embarked  0.167675  0.162098  0.108262 -0.068230 -0.039798  0.140830   \n",
       "AgeBand  -0.037059  0.418829 -0.074935 -0.228739 -0.150458  0.261144   \n",
       "FareBand  0.165780  0.347834  0.118639  0.022148  0.139083  0.252812   \n",
       "Title     0.547205  0.101240  0.949240  0.199207  0.291817  0.134484   \n",
       "\n",
       "          Embarked   AgeBand  FareBand     Title  \n",
       "Survived  0.167675 -0.037059  0.165780  0.547205  \n",
       "Pclass    0.162098  0.418829  0.347834  0.101240  \n",
       "Sex       0.108262 -0.074935  0.118639  0.949240  \n",
       "SibSp    -0.068230 -0.228739  0.022148  0.199207  \n",
       "Parch    -0.039798 -0.150458  0.139083  0.291817  \n",
       "Cabin     0.140830  0.261144  0.252812  0.134484  \n",
       "Embarked  1.000000  0.015525  0.203933  0.107094  \n",
       "AgeBand   0.015525  1.000000  0.080791 -0.188478  \n",
       "FareBand  0.203933  0.080791  1.000000  0.121274  \n",
       "Title     0.107094 -0.188478  0.121274  1.000000  "
      ]
     },
     "execution_count": 23,
     "metadata": {},
     "output_type": "execute_result"
    }
   ],
   "source": [
    "tds.corr()"
   ]
  },
  {
   "cell_type": "code",
   "execution_count": 24,
   "id": "11a351eb",
   "metadata": {},
   "outputs": [],
   "source": [
    "y = tds.iloc[:, 0]\n",
    "x = tds\n",
    "x.drop([\"Survived\"], inplace = True, axis = 1)\n",
    "x_train, x_test, y_train, y_test = tts(x, y, test_size = 0.2, stratify = y)"
   ]
  },
  {
   "cell_type": "code",
   "execution_count": 25,
   "id": "2d886367",
   "metadata": {},
   "outputs": [],
   "source": [
    "def logistic(x):\n",
    "    \"\"\"\n",
    "    Computes the logistic function applied to an input scalar/array\n",
    "    Args:\n",
    "        x (scalar/ndarray): scalar or numpy array of any size\n",
    "    Returns:\n",
    "        y (scalar/ndarray): logistic function applied to x, has the same shape as x\n",
    "    \"\"\"\n",
    "    y = 1 / (1 + np.exp(-x))\n",
    "    return y\n",
    "\n",
    "\n",
    "def log_loss(y, y_dash):\n",
    "    \"\"\"\n",
    "    Computes log loss for inputs true value (0 or 1) and predicted value (between 0 and 1)\n",
    "    Args:\n",
    "      y      (scalar): true value (0 or 1)\n",
    "      y_dash (scalar): predicted value (probability of y being 1)\n",
    "    Returns:\n",
    "      loss (float): nonnegative loss corresponding to y and y_dash\n",
    "    \"\"\"\n",
    "    loss = - (y * np.log(y_dash)) - ((1 - y) * np.log(1 - y_dash))\n",
    "    return loss\n",
    "\n",
    "\n",
    "def cost_func_vec(y, y_dash):\n",
    "    \"\"\"\n",
    "    Computes log loss for inputs true value (0 or 1) and predicted value (between 0 and 1)\n",
    "    Args:\n",
    "      y      (array_like, shape (m,)): array of true values (0 or 1)\n",
    "      y_dash (array_like, shape (m,)): array of predicted values (probability of y being 1)\n",
    "    Returns:\n",
    "      cost (float): nonnegative cost corresponding to y and y_dash\n",
    "    \"\"\"\n",
    "    assert len(y) == len(y_dash), \"Length of true values and length of predicted values do not match\"\n",
    "    m = len(y)\n",
    "    loss_vec = np.array([log_loss(y[i], y_dash[i]) for i in range(m)])\n",
    "    cost = np.dot(loss_vec, np.ones(m)) / m\n",
    "    return cost\n",
    "\n",
    "\n",
    "def cost_func_vec(y, y_dash):\n",
    "    \"\"\"\n",
    "    Computes log loss for inputs true value (0 or 1) and predicted value (between 0 and 1)\n",
    "    Args:\n",
    "      y      (array_like, shape (m,)): array of true values (0 or 1)\n",
    "      y_dash (array_like, shape (m,)): array of predicted values (probability of y being 1)\n",
    "    Returns:\n",
    "      cost (float): nonnegative cost corresponding to y and y_dash\n",
    "    \"\"\"\n",
    "    assert len(y) == len(y_dash), \"Length of true values and length of predicted values do not match\"\n",
    "    m = len(y)\n",
    "    loss_vec = np.array([log_loss(y[i], y_dash[i]) for i in range(m)])\n",
    "    cost = np.dot(loss_vec, np.ones(m)) / m\n",
    "    return cost\n",
    "\n",
    "\n",
    "def cost_logreg_vec(X, y, w, b):\n",
    "    \"\"\"\n",
    "    Computes the cost function, given data and model parameters\n",
    "    Args:\n",
    "      X (ndarray, shape (m,n))  : data on features, m observations with n features\n",
    "      y (array_like, shape (m,)): array of true values of target (0 or 1)\n",
    "      w (array_like, shape (n,)): weight parameters of the model      \n",
    "      b (float)                 : bias parameter of the model\n",
    "    Returns:\n",
    "      cost (float): nonnegative cost corresponding to y and y_dash \n",
    "    \"\"\"\n",
    "    m, n = X.shape\n",
    "    assert len(y) == m, \"Number of feature observations and number of target observations do not match\"\n",
    "    assert len(w) == n, \"Number of features and number of weight parameters do not match\"\n",
    "    z = np.matmul(X, w) + (b * np.ones(m))\n",
    "    y_dash = logistic(z)\n",
    "    cost = cost_func_vec(y, y_dash)\n",
    "    return cost\n",
    "\n",
    "\n",
    "def grad_logreg_vec(X, y, w, b): \n",
    "    \"\"\"\n",
    "    Computes gradients of the cost function with respect to model parameters\n",
    "    Args:\n",
    "      X (ndarray, shape (m,n))  : data on features, m observations with n features\n",
    "      y (array_like, shape (m,)): array of true values of target (0 or 1)\n",
    "      w (array_like, shape (n,)): weight parameters of the model      \n",
    "      b (float)                 : bias parameter of the model\n",
    "    Returns:\n",
    "      grad_w (array_like, shape (n,)): gradients of the cost function with respect to the weight parameters\n",
    "      grad_b (float)                 : gradient of the cost function with respect to the bias parameter\n",
    "    \"\"\"\n",
    "    m, n = X.shape\n",
    "    assert len(y) == m, \"Number of feature observations and number of target observations do not match\"\n",
    "    assert len(w) == n, \"Number of features and number of weight parameters do not match\"\n",
    "    y_dash = logistic(np.matmul(X, w) + b * np.ones(m))\n",
    "    grad_w = np.matmul(y_dash - y, X) / m\n",
    "    grad_b = np.dot(y_dash - y, np.ones(m)) / m\n",
    "    return grad_w, grad_b\n",
    "\n",
    "\n",
    "def grad_desc(X, y, w, b, alpha, n_iter, show_cost = True, show_params = False): \n",
    "    \"\"\"\n",
    "    Implements batch gradient descent algorithm to learn and update model parameters\n",
    "    with prespecified number of interations and learning rate\n",
    "    Args:\n",
    "      X (ndarray, shape (m,n))  : data on features, m observations with n features\n",
    "      y (array_like, shape (m,)): true values of target (0 or 1)\n",
    "      w (array_like, shape (n,)): initial value of weight parameters\n",
    "      b (scalar)                : initial value of bias parameter\n",
    "      cost_func                 : function to compute cost\n",
    "      grad_func                 : function to compute gradients of cost with respect to model parameters\n",
    "      alpha (float)             : learning rate\n",
    "      n_iter (int)              : number of iterations\n",
    "    Returns:\n",
    "      w (array_like, shape (n,)): updated values of weight parameters\n",
    "      b (scalar)                : updated value of bias parameter\n",
    "    \"\"\"\n",
    "    m, n = X.shape\n",
    "    assert len(y) == m, \"Number of feature observations and number of target observations do not match\"\n",
    "    assert len(w) == n, \"Number of features and number of weight parameters do not match\"\n",
    "    cost_history, params_history = [], []\n",
    "    for i, j in itertools.product(range(n_iter), range(1)):\n",
    "        grad_w, grad_b = grad_logreg_vec(X, y, w, b)   \n",
    "        w += - alpha * grad_w\n",
    "        b += - alpha * grad_b\n",
    "        cost =  cost_logreg_vec(X, y, w, b)\n",
    "        cost_history.append(cost)\n",
    "        params_history.append([w, b])\n",
    "        if show_cost == True and show_params == False and (i % math.ceil(n_iter / 10) == 0 or i == n_iter - 1):\n",
    "            print(f\"Epoch {i:6}:    Cost  {float(cost_history[i]):3.4f}\")\n",
    "        if show_cost == True and show_params == True and (i % math.ceil(n_iter / 10) == 0 or i == n_iter - 1):\n",
    "            print(f\"Epoch {i:6}:    Cost  {float(cost_history[i]):3.4f},    Params  {params_history[i]}\")\n",
    "    return w, b, cost_history, params_history\n",
    "\n",
    "\n",
    "def conf_mat(y_true, y_pred):\n",
    "    \"\"\"\n",
    "    Computes confusion matrix\n",
    "    Args:\n",
    "      y_test (array_like): true binary (0 or 1) labels\n",
    "      y_pred (array_like): predicted binary (0 or 1) labels\n",
    "    Returns:\n",
    "      confusion_mat (array): A 2D array representing a 2x2 confusion matrix\n",
    "    \"\"\"\n",
    "    y_true, y_pred = list(y_true), list(y_pred)\n",
    "    count, labels, confusion_mat = len(y_true), [0, 1], np.zeros(shape = (2, 2), dtype = int)\n",
    "    for i in range(2):\n",
    "        for j in range(2):\n",
    "            confusion_mat[i][j] = len([k for k in range(count) if y_true[k] == labels[i] and y_pred[k] == labels[j]])\n",
    "    return confusion_mat\n",
    "\n",
    "\n",
    "def conf_mat_heatmap(y_true, y_pred):\n",
    "    \"\"\"\n",
    "    Prints confusion matrix\n",
    "    Args:\n",
    "      y_true (array_like): true binary (0 or 1) labels\n",
    "      y_pred (array_like): predicted binary (0 or 1) labels\n",
    "    Returns:\n",
    "      Nothing, prints a heatmap representing a 2x2 confusion matrix\n",
    "    \"\"\"\n",
    "    confusion_mat = conf_mat(y_true, y_pred)\n",
    "    labels, confusion_mat_df = [0, 1], pd.DataFrame(confusion_mat, range(2), range(2))\n",
    "    plt.figure(figsize = (6, 4.75))\n",
    "    sns.heatmap(confusion_mat_df, annot = True, annot_kws = {\"size\": 16}, fmt = 'd')\n",
    "    plt.xticks([0.5, 1.5], labels, rotation = 'horizontal')\n",
    "    plt.yticks([0.5, 1.5], labels, rotation = 'horizontal')\n",
    "    plt.xlabel(\"Predicted label\", fontsize = 14)\n",
    "    plt.ylabel(\"True label\", fontsize = 14)\n",
    "    plt.title(\"Confusion Matrix\", fontsize = 14)\n",
    "    plt.grid(False)\n",
    "    plt.show()"
   ]
  },
  {
   "cell_type": "code",
   "execution_count": 27,
   "id": "63bba242",
   "metadata": {},
   "outputs": [
    {
     "data": {
      "application/vnd.jupyter.widget-view+json": {
       "model_id": "a787164b2c5f48b8bf36df3a714bf3aa",
       "version_major": 2,
       "version_minor": 0
      },
      "text/plain": [
       "  0%|          | 0/200 [00:00<?, ?it/s]"
      ]
     },
     "metadata": {},
     "output_type": "display_data"
    },
    {
     "name": "stdout",
     "output_type": "stream",
     "text": [
      "Epoch      0:    Cost  1.0816\n",
      "Epoch     20:    Cost  0.5690\n",
      "Epoch     40:    Cost  0.4876\n",
      "Epoch     60:    Cost  0.4577\n",
      "Epoch     80:    Cost  0.4448\n",
      "Epoch    100:    Cost  0.4385\n",
      "Epoch    120:    Cost  0.4352\n",
      "Epoch    140:    Cost  0.4333\n",
      "Epoch    160:    Cost  0.4322\n",
      "Epoch    180:    Cost  0.4316\n",
      "Epoch    199:    Cost  0.4312\n"
     ]
    }
   ],
   "source": [
    "w_init = np.random.rand(9).astype(float)\n",
    "b_init = -1.\n",
    "\n",
    "w_out, b_out, cost_history, params_history = grad_desc(x_train.to_numpy(),\n",
    "                                                       y_train.to_numpy(),\n",
    "                                                       w = w_init, # np.zeros(X_train.shape[1]),\n",
    "                                                       b = b_init, # 0,\n",
    "                                                       alpha = 0.1,\n",
    "                                                       n_iter = 200)"
   ]
  },
  {
   "cell_type": "code",
   "execution_count": 28,
   "id": "310df18d",
   "metadata": {},
   "outputs": [
    {
     "data": {
      "image/png": "[encoded data removed]",
      "text/plain": [
       "<Figure size 900x600 with 1 Axes>"
      ]
     },
     "metadata": {},
     "output_type": "display_data"
    }
   ],
   "source": [
    "plt.figure(figsize = (9, 6))\n",
    "plt.plot(cost_history)\n",
    "plt.xlabel(\"Epoch\", fontsize = 14)\n",
    "plt.ylabel(\"Cost\", fontsize = 14)\n",
    "plt.title(\"Cost vs Epoch\", fontsize = 14)\n",
    "plt.tight_layout()\n",
    "plt.show()"
   ]
  },
  {
   "cell_type": "code",
   "execution_count": 29,
   "id": "a77ad933",
   "metadata": {},
   "outputs": [
    {
     "data": {
      "text/plain": [
       "[array([ 0.86975775,  0.60363047, -0.30169926, -0.00379443,  0.15506195,\n",
       "         0.12201344, -0.52616876,  0.06480029,  0.58930881]),\n",
       " -1.7064652764718116]"
      ]
     },
     "execution_count": 29,
     "metadata": {},
     "output_type": "execute_result"
    }
   ],
   "source": [
    "params_history[-1]"
   ]
  },
  {
   "cell_type": "code",
   "execution_count": 30,
   "id": "1f1bed63",
   "metadata": {},
   "outputs": [
    {
     "name": "stdout",
     "output_type": "stream",
     "text": [
      "Training accuracy: 0.8174157303370787\n",
      "Training recall: 0.7289377289377289\n",
      "Training f1 score: 0.7537878787878788\n"
     ]
    }
   ],
   "source": [
    "y_train_prob = logistic(np.matmul(x_train.to_numpy(), w_out) + (b_out * np.ones(x_train.shape[0])))\n",
    "y_train_pred = (y_train_prob > 0.5).astype(int)\n",
    "print(f\"Training accuracy: {accuracy_score(y_train, y_train_pred)}\\nTraining recall: {recall_score(y_train, y_train_pred)}\\nTraining f1 score: {f1_score(y_train, y_train_pred)}\")"
   ]
  },
  {
   "cell_type": "code",
   "execution_count": 31,
   "id": "9adf624f",
   "metadata": {},
   "outputs": [
    {
     "data": {
      "image/png": "[encoded data removed]",
      "text/plain": [
       "<Figure size 600x475 with 2 Axes>"
      ]
     },
     "metadata": {},
     "output_type": "display_data"
    }
   ],
   "source": [
    "conf_mat_heatmap(y_train, y_train_pred)"
   ]
  },
  {
   "cell_type": "code",
   "execution_count": 32,
   "id": "941f8bb7",
   "metadata": {},
   "outputs": [
    {
     "name": "stdout",
     "output_type": "stream",
     "text": [
      "Test accuracy: 0.8212290502793296\n",
      "Test recall: 0.7971014492753623\n",
      "Test f1 score: 0.7746478873239437\n"
     ]
    }
   ],
   "source": [
    "y_test_prob = logistic(np.matmul(x_test.to_numpy(), w_out) + (b_out * np.ones(x_test.shape[0])))\n",
    "y_test_pred = (y_test_prob > 0.5).astype(int)\n",
    "print(f\"Test accuracy: {accuracy_score(y_test, y_test_pred)}\\nTest recall: {recall_score(y_test, y_test_pred)}\\nTest f1 score: {f1_score(y_test, y_test_pred)}\")"
   ]
  },
  {
   "cell_type": "code",
   "execution_count": 33,
   "id": "c28106c3",
   "metadata": {},
   "outputs": [
    {
     "data": {
      "image/png": "[encoded data removed]",
      "text/plain": [
       "<Figure size 600x475 with 2 Axes>"
      ]
     },
     "metadata": {},
     "output_type": "display_data"
    }
   ],
   "source": [
    "conf_mat_heatmap(y_test, y_test_pred)"
   ]
  },
  {
   "cell_type": "code",
   "execution_count": null,
   "id": "af072371",
   "metadata": {},
   "outputs": [],
   "source": []
  }
 ],
 "metadata": {
  "kernelspec": {
   "display_name": "Python 3 (ipykernel)",
   "language": "python",
   "name": "python3"
  },
  "language_info": {
   "codemirror_mode": {
    "name": "ipython",
    "version": 3
   },
   "file_extension": ".py",
   "mimetype": "text/x-python",
   "name": "python",
   "nbconvert_exporter": "python",
   "pygments_lexer": "ipython3",
   "version": "3.9.13"
  }
 },
 "nbformat": 4,
 "nbformat_minor": 5
}
